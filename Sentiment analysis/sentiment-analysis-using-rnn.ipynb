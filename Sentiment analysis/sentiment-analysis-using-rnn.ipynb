{
 "cells": [
  {
   "cell_type": "markdown",
   "id": "162beec1",
   "metadata": {
    "papermill": {
     "duration": 0.004384,
     "end_time": "2024-07-12T16:53:01.688999",
     "exception": false,
     "start_time": "2024-07-12T16:53:01.684615",
     "status": "completed"
    },
    "tags": []
   },
   "source": [
    "# Importing Libraries and Loading Data"
   ]
  },
  {
   "cell_type": "code",
   "execution_count": 1,
   "id": "81405174",
   "metadata": {
    "execution": {
     "iopub.execute_input": "2024-07-12T16:53:01.698192Z",
     "iopub.status.busy": "2024-07-12T16:53:01.697921Z",
     "iopub.status.idle": "2024-07-12T16:53:01.708268Z",
     "shell.execute_reply": "2024-07-12T16:53:01.707446Z"
    },
    "papermill": {
     "duration": 0.017064,
     "end_time": "2024-07-12T16:53:01.710213",
     "exception": false,
     "start_time": "2024-07-12T16:53:01.693149",
     "status": "completed"
    },
    "tags": []
   },
   "outputs": [],
   "source": [
    "import warnings\n",
    "\n",
    "warnings.filterwarnings(\"ignore\")  # ignore all warnings\n",
    "warnings.filterwarnings(\"ignore\", category=DeprecationWarning)  # ignore deprecation warnings"
   ]
  },
  {
   "cell_type": "code",
   "execution_count": 2,
   "id": "3e6d51a3",
   "metadata": {
    "execution": {
     "iopub.execute_input": "2024-07-12T16:53:01.719009Z",
     "iopub.status.busy": "2024-07-12T16:53:01.718773Z",
     "iopub.status.idle": "2024-07-12T16:53:15.500274Z",
     "shell.execute_reply": "2024-07-12T16:53:15.499468Z"
    },
    "papermill": {
     "duration": 13.788473,
     "end_time": "2024-07-12T16:53:15.502621",
     "exception": false,
     "start_time": "2024-07-12T16:53:01.714148",
     "status": "completed"
    },
    "tags": []
   },
   "outputs": [
    {
     "name": "stderr",
     "output_type": "stream",
     "text": [
      "2024-07-12 16:53:04.315616: E external/local_xla/xla/stream_executor/cuda/cuda_dnn.cc:9261] Unable to register cuDNN factory: Attempting to register factory for plugin cuDNN when one has already been registered\n",
      "2024-07-12 16:53:04.315728: E external/local_xla/xla/stream_executor/cuda/cuda_fft.cc:607] Unable to register cuFFT factory: Attempting to register factory for plugin cuFFT when one has already been registered\n",
      "2024-07-12 16:53:04.459978: E external/local_xla/xla/stream_executor/cuda/cuda_blas.cc:1515] Unable to register cuBLAS factory: Attempting to register factory for plugin cuBLAS when one has already been registered\n"
     ]
    }
   ],
   "source": [
    "import numpy as np\n",
    "import pandas as pd\n",
    "from tensorflow.keras.preprocessing.text import Tokenizer\n",
    "from tensorflow.keras.preprocessing.sequence import pad_sequences\n",
    "from sklearn.model_selection import train_test_split\n",
    "import tensorflow as tf\n",
    "\n",
    "data = pd.read_csv('../input/sentiment-analysis-for-financial-news/all-data.csv', names=['Label', 'Text'], encoding='latin-1')"
   ]
  },
  {
   "cell_type": "markdown",
   "id": "ab5117e0",
   "metadata": {
    "papermill": {
     "duration": 0.004513,
     "end_time": "2024-07-12T16:53:15.511692",
     "exception": false,
     "start_time": "2024-07-12T16:53:15.507179",
     "status": "completed"
    },
    "tags": []
   },
   "source": [
    "# Data Exploration"
   ]
  },
  {
   "cell_type": "code",
   "execution_count": 3,
   "id": "e66cb08e",
   "metadata": {
    "execution": {
     "iopub.execute_input": "2024-07-12T16:53:15.525823Z",
     "iopub.status.busy": "2024-07-12T16:53:15.525512Z",
     "iopub.status.idle": "2024-07-12T16:53:15.544999Z",
     "shell.execute_reply": "2024-07-12T16:53:15.543701Z"
    },
    "papermill": {
     "duration": 0.029213,
     "end_time": "2024-07-12T16:53:15.547116",
     "exception": false,
     "start_time": "2024-07-12T16:53:15.517903",
     "status": "completed"
    },
    "tags": []
   },
   "outputs": [
    {
     "data": {
      "text/html": [
       "<div>\n",
       "<style scoped>\n",
       "    .dataframe tbody tr th:only-of-type {\n",
       "        vertical-align: middle;\n",
       "    }\n",
       "\n",
       "    .dataframe tbody tr th {\n",
       "        vertical-align: top;\n",
       "    }\n",
       "\n",
       "    .dataframe thead th {\n",
       "        text-align: right;\n",
       "    }\n",
       "</style>\n",
       "<table border=\"1\" class=\"dataframe\">\n",
       "  <thead>\n",
       "    <tr style=\"text-align: right;\">\n",
       "      <th></th>\n",
       "      <th>Label</th>\n",
       "      <th>Text</th>\n",
       "    </tr>\n",
       "  </thead>\n",
       "  <tbody>\n",
       "    <tr>\n",
       "      <th>0</th>\n",
       "      <td>neutral</td>\n",
       "      <td>According to Gran , the company has no plans t...</td>\n",
       "    </tr>\n",
       "    <tr>\n",
       "      <th>1</th>\n",
       "      <td>neutral</td>\n",
       "      <td>Technopolis plans to develop in stages an area...</td>\n",
       "    </tr>\n",
       "    <tr>\n",
       "      <th>2</th>\n",
       "      <td>negative</td>\n",
       "      <td>The international electronic industry company ...</td>\n",
       "    </tr>\n",
       "    <tr>\n",
       "      <th>3</th>\n",
       "      <td>positive</td>\n",
       "      <td>With the new production plant the company woul...</td>\n",
       "    </tr>\n",
       "    <tr>\n",
       "      <th>4</th>\n",
       "      <td>positive</td>\n",
       "      <td>According to the company 's updated strategy f...</td>\n",
       "    </tr>\n",
       "  </tbody>\n",
       "</table>\n",
       "</div>"
      ],
      "text/plain": [
       "      Label                                               Text\n",
       "0   neutral  According to Gran , the company has no plans t...\n",
       "1   neutral  Technopolis plans to develop in stages an area...\n",
       "2  negative  The international electronic industry company ...\n",
       "3  positive  With the new production plant the company woul...\n",
       "4  positive  According to the company 's updated strategy f..."
      ]
     },
     "execution_count": 3,
     "metadata": {},
     "output_type": "execute_result"
    }
   ],
   "source": [
    "data.head()"
   ]
  },
  {
   "cell_type": "markdown",
   "id": "be10c19c",
   "metadata": {
    "papermill": {
     "duration": 0.005917,
     "end_time": "2024-07-12T16:53:15.559620",
     "exception": false,
     "start_time": "2024-07-12T16:53:15.553703",
     "status": "completed"
    },
    "tags": []
   },
   "source": [
    "# Data Preprocessing"
   ]
  },
  {
   "cell_type": "code",
   "execution_count": 4,
   "id": "9272c2c9",
   "metadata": {
    "execution": {
     "iopub.execute_input": "2024-07-12T16:53:15.573367Z",
     "iopub.status.busy": "2024-07-12T16:53:15.571280Z",
     "iopub.status.idle": "2024-07-12T16:53:15.583482Z",
     "shell.execute_reply": "2024-07-12T16:53:15.582420Z"
    },
    "papermill": {
     "duration": 0.021412,
     "end_time": "2024-07-12T16:53:15.585981",
     "exception": false,
     "start_time": "2024-07-12T16:53:15.564569",
     "status": "completed"
    },
    "tags": []
   },
   "outputs": [],
   "source": [
    "def get_sequences(texts):\n",
    "    tokenizer = Tokenizer()\n",
    "    tokenizer.fit_on_texts(texts)\n",
    "    \n",
    "    sequences = tokenizer.texts_to_sequences(texts)\n",
    "    print(\"Vocab length:\", len(tokenizer.word_index) + 1)\n",
    "    \n",
    "    max_seq_length = np.max(list(map(lambda x: len(x), sequences)))\n",
    "    print(\"Maximum sequence length:\", max_seq_length)\n",
    "    \n",
    "    sequences = pad_sequences(sequences, maxlen=max_seq_length, padding='post')\n",
    "    \n",
    "    return sequences\n",
    "\n",
    "def preprocess_inputs(df):\n",
    "    df = df.copy()\n",
    "    \n",
    "    sequences = get_sequences(df['Text'])\n",
    "    \n",
    "    label_mapping = {\n",
    "        'negative': 0,\n",
    "        'neutral': 1,\n",
    "        'positive': 2\n",
    "    }\n",
    "    \n",
    "    y = df['Label'].replace(label_mapping)\n",
    "    \n",
    "    train_sequences, test_sequences, y_train, y_test = train_test_split(sequences, y, train_size=0.7, shuffle=True, random_state=1)\n",
    "    \n",
    "    return train_sequences, test_sequences, y_train, y_test"
   ]
  },
  {
   "cell_type": "code",
   "execution_count": 5,
   "id": "fb761dae",
   "metadata": {
    "execution": {
     "iopub.execute_input": "2024-07-12T16:53:15.596728Z",
     "iopub.status.busy": "2024-07-12T16:53:15.596271Z",
     "iopub.status.idle": "2024-07-12T16:53:15.876703Z",
     "shell.execute_reply": "2024-07-12T16:53:15.875618Z"
    },
    "papermill": {
     "duration": 0.288237,
     "end_time": "2024-07-12T16:53:15.879524",
     "exception": false,
     "start_time": "2024-07-12T16:53:15.591287",
     "status": "completed"
    },
    "tags": []
   },
   "outputs": [
    {
     "name": "stdout",
     "output_type": "stream",
     "text": [
      "Vocab length: 10123\n",
      "Maximum sequence length: 71\n"
     ]
    }
   ],
   "source": [
    "train_sequences, test_sequences, y_train, y_test = preprocess_inputs(data)"
   ]
  },
  {
   "cell_type": "markdown",
   "id": "623bbde1",
   "metadata": {
    "papermill": {
     "duration": 0.004187,
     "end_time": "2024-07-12T16:53:15.900525",
     "exception": false,
     "start_time": "2024-07-12T16:53:15.896338",
     "status": "completed"
    },
    "tags": []
   },
   "source": [
    "# Building the RNN Model"
   ]
  },
  {
   "cell_type": "code",
   "execution_count": 6,
   "id": "7aeb28a8",
   "metadata": {
    "execution": {
     "iopub.execute_input": "2024-07-12T16:53:15.910914Z",
     "iopub.status.busy": "2024-07-12T16:53:15.910430Z",
     "iopub.status.idle": "2024-07-12T16:53:17.267094Z",
     "shell.execute_reply": "2024-07-12T16:53:17.266347Z"
    },
    "papermill": {
     "duration": 1.364477,
     "end_time": "2024-07-12T16:53:17.269360",
     "exception": false,
     "start_time": "2024-07-12T16:53:15.904883",
     "status": "completed"
    },
    "tags": []
   },
   "outputs": [],
   "source": [
    "inputs = tf.keras.Input(shape=(train_sequences.shape[1],))\n",
    "x = tf.keras.layers.Embedding(input_dim=10123, output_dim=128, input_length=train_sequences.shape[1])(inputs)\n",
    "x = tf.keras.layers.GRU(256, return_sequences=True, activation='tanh')(x)\n",
    "x = tf.keras.layers.Flatten()(x)\n",
    "x = tf.keras.layers.Dense(128, activation='relu')(x)\n",
    "outputs = tf.keras.layers.Dense(3, activation='softmax')(x)\n",
    "\n",
    "model = tf.keras.Model(inputs=inputs, outputs=outputs)\n",
    "\n",
    "model.compile(optimizer='adam', loss='sparse_categorical_crossentropy', metrics=['accuracy'])"
   ]
  },
  {
   "cell_type": "markdown",
   "id": "1ee55132",
   "metadata": {
    "papermill": {
     "duration": 0.004242,
     "end_time": "2024-07-12T16:53:17.278175",
     "exception": false,
     "start_time": "2024-07-12T16:53:17.273933",
     "status": "completed"
    },
    "tags": []
   },
   "source": [
    "# Training the Model"
   ]
  },
  {
   "cell_type": "code",
   "execution_count": 7,
   "id": "a5076f24",
   "metadata": {
    "execution": {
     "iopub.execute_input": "2024-07-12T16:53:17.288072Z",
     "iopub.status.busy": "2024-07-12T16:53:17.287562Z",
     "iopub.status.idle": "2024-07-12T16:53:24.555027Z",
     "shell.execute_reply": "2024-07-12T16:53:24.554040Z"
    },
    "papermill": {
     "duration": 7.274861,
     "end_time": "2024-07-12T16:53:24.557273",
     "exception": false,
     "start_time": "2024-07-12T16:53:17.282412",
     "status": "completed"
    },
    "tags": []
   },
   "outputs": [
    {
     "name": "stdout",
     "output_type": "stream",
     "text": [
      "Epoch 1/100\n",
      "\u001b[1m85/85\u001b[0m \u001b[32m━━━━━━━━━━━━━━━━━━━━\u001b[0m\u001b[37m\u001b[0m \u001b[1m4s\u001b[0m 13ms/step - accuracy: 0.6133 - loss: 0.8833 - val_accuracy: 0.6274 - val_loss: 0.8157\n",
      "Epoch 2/100\n",
      "\u001b[1m85/85\u001b[0m \u001b[32m━━━━━━━━━━━━━━━━━━━━\u001b[0m\u001b[37m\u001b[0m \u001b[1m1s\u001b[0m 9ms/step - accuracy: 0.8024 - loss: 0.4677 - val_accuracy: 0.6878 - val_loss: 0.7847\n",
      "Epoch 3/100\n",
      "\u001b[1m85/85\u001b[0m \u001b[32m━━━━━━━━━━━━━━━━━━━━\u001b[0m\u001b[37m\u001b[0m \u001b[1m1s\u001b[0m 9ms/step - accuracy: 0.9630 - loss: 0.1320 - val_accuracy: 0.6568 - val_loss: 1.1959\n",
      "Epoch 4/100\n",
      "\u001b[1m85/85\u001b[0m \u001b[32m━━━━━━━━━━━━━━━━━━━━\u001b[0m\u001b[37m\u001b[0m \u001b[1m1s\u001b[0m 8ms/step - accuracy: 0.9772 - loss: 0.0677 - val_accuracy: 0.7187 - val_loss: 1.0574\n",
      "Epoch 5/100\n",
      "\u001b[1m85/85\u001b[0m \u001b[32m━━━━━━━━━━━━━━━━━━━━\u001b[0m\u001b[37m\u001b[0m \u001b[1m1s\u001b[0m 9ms/step - accuracy: 0.9964 - loss: 0.0138 - val_accuracy: 0.7025 - val_loss: 1.4058\n"
     ]
    }
   ],
   "source": [
    "history = model.fit(\n",
    "    train_sequences,\n",
    "    y_train,\n",
    "    validation_split=0.2,\n",
    "    batch_size=32,\n",
    "    epochs=100,\n",
    "    callbacks=[\n",
    "        tf.keras.callbacks.EarlyStopping(\n",
    "            monitor='val_loss',\n",
    "            patience=3,\n",
    "            restore_best_weights=True\n",
    "        )\n",
    "    ]\n",
    ")"
   ]
  },
  {
   "cell_type": "markdown",
   "id": "1506283b",
   "metadata": {
    "papermill": {
     "duration": 0.010066,
     "end_time": "2024-07-12T16:53:24.578178",
     "exception": false,
     "start_time": "2024-07-12T16:53:24.568112",
     "status": "completed"
    },
    "tags": []
   },
   "source": [
    "# Evaluating the Model"
   ]
  },
  {
   "cell_type": "code",
   "execution_count": 8,
   "id": "c410c2ed",
   "metadata": {
    "execution": {
     "iopub.execute_input": "2024-07-12T16:53:24.599760Z",
     "iopub.status.busy": "2024-07-12T16:53:24.599447Z",
     "iopub.status.idle": "2024-07-12T16:53:24.794914Z",
     "shell.execute_reply": "2024-07-12T16:53:24.793771Z"
    },
    "papermill": {
     "duration": 0.208443,
     "end_time": "2024-07-12T16:53:24.796831",
     "exception": false,
     "start_time": "2024-07-12T16:53:24.588388",
     "status": "completed"
    },
    "tags": []
   },
   "outputs": [
    {
     "name": "stdout",
     "output_type": "stream",
     "text": [
      "    Test Loss: 0.68966\n",
      "Test Accuracy: 74.21%\n"
     ]
    }
   ],
   "source": [
    "results = model.evaluate(test_sequences, y_test, verbose=0)\n",
    "\n",
    "print(\"    Test Loss: {:.5f}\".format(results[0]))\n",
    "print(\"Test Accuracy: {:.2f}%\".format(results[1] * 100))"
   ]
  }
 ],
 "metadata": {
  "kaggle": {
   "accelerator": "nvidiaTeslaT4",
   "dataSources": [
    {
     "datasetId": 622510,
     "sourceId": 1192499,
     "sourceType": "datasetVersion"
    }
   ],
   "dockerImageVersionId": 30747,
   "isGpuEnabled": true,
   "isInternetEnabled": true,
   "language": "python",
   "sourceType": "notebook"
  },
  "kernelspec": {
   "display_name": "Python 3",
   "language": "python",
   "name": "python3"
  },
  "language_info": {
   "codemirror_mode": {
    "name": "ipython",
    "version": 3
   },
   "file_extension": ".py",
   "mimetype": "text/x-python",
   "name": "python",
   "nbconvert_exporter": "python",
   "pygments_lexer": "ipython3",
   "version": "3.10.13"
  },
  "papermill": {
   "default_parameters": {},
   "duration": 28.184256,
   "end_time": "2024-07-12T16:53:27.133784",
   "environment_variables": {},
   "exception": null,
   "input_path": "__notebook__.ipynb",
   "output_path": "__notebook__.ipynb",
   "parameters": {},
   "start_time": "2024-07-12T16:52:58.949528",
   "version": "2.5.0"
  }
 },
 "nbformat": 4,
 "nbformat_minor": 5
}
